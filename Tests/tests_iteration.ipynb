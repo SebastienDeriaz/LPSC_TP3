{
 "cells": [
  {
   "cell_type": "code",
   "execution_count": 191,
   "metadata": {},
   "outputs": [],
   "source": [
    "from fixedpoint import FixedPoint\n",
    "m = 3\n",
    "n = 15\n",
    "\n",
    "def FP(x):\n",
    "    return FixedPoint(x, m=m, n=n, signed=True, str_base=2)\n",
    "\n",
    "def resize(x : FixedPoint):\n",
    "    x_str = str(x)\n",
    "    new = f\"0b{x_str[x.m-m:x.m+n]}\"\n",
    "    #print(f\"[{start}:{end}] -> {new}\")\n",
    "    return FixedPoint(new, m=m, n=n, signed=True, str_base=2)"
   ]
  },
  {
   "cell_type": "code",
   "execution_count": 169,
   "metadata": {},
   "outputs": [],
   "source": [
    "# Debug file\n",
    "iteration_testcases_file = \"./mandelbrot_iteration_testcases.csv\"\n",
    "line = 4\n",
    "\n",
    "with open(iteration_testcases_file, 'r') as f:\n",
    "    data = f.read()\n",
    "    lines = data.split('\\n')\n",
    "line = lines[line-2+1]\n",
    "values = line.split(',')\n",
    "\n",
    "Cr = FP('0b' + values[0])\n",
    "Ci = FP('0b' + values[1])\n",
    "Zr_previous = FP('0b' + values[2])\n",
    "Zi_previous = FP('0b' + values[3])\n",
    "done_in = int(values[6])\n",
    "R = FP('0b' + values[7])\n",
    "iterations_in = int(values[8])\n",
    "\n",
    "Zr_next_th = FP('0b' + values[4])\n",
    "Zi_next_th = FP('0b' + values[5])\n",
    "iterations_out_th = int(values[9])\n",
    "done_out_th = int(values[10])"
   ]
  }
 ],
 "metadata": {
  "interpreter": {
   "hash": "c640ee6f5a645129f8b6529d4f6137b08586114413da0c4a8fd269ac7d57753c"
  },
  "kernelspec": {
   "display_name": "Python 3.8.13 ('base')",
   "language": "python",
   "name": "python3"
  },
  "language_info": {
   "codemirror_mode": {
    "name": "ipython",
    "version": 3
   },
   "file_extension": ".py",
   "mimetype": "text/x-python",
   "name": "python",
   "nbconvert_exporter": "python",
   "pygments_lexer": "ipython3",
   "version": "3.8.13"
  },
  "orig_nbformat": 4
 },
 "nbformat": 4,
 "nbformat_minor": 2
}

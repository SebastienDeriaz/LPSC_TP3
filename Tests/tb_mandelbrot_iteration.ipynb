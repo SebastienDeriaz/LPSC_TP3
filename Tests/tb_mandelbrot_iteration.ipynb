{
 "cells": [
  {
   "cell_type": "markdown",
   "metadata": {},
   "source": [
    "# LPSC - TP3\n",
    "\n",
    "Testbench pour une seule itération de mandelbrot (``mandelbrot_iteration``)"
   ]
  },
  {
   "cell_type": "code",
   "execution_count": 1,
   "metadata": {},
   "outputs": [],
   "source": [
    "from fixedpoint import FixedPoint\n",
    "import numpy as np\n",
    "import matplotlib.pyplot as plt\n",
    "from mandelbrot_functions import mandelbrot_iter, screen, m, n, imag_values, real_values, MAX_ITER"
   ]
  },
  {
   "cell_type": "code",
   "execution_count": 3,
   "metadata": {},
   "outputs": [],
   "source": [
    "# Nombre de testcases (à partir de zero)\n",
    "Nzero = 10\n",
    "# Nombre de testcases (avec un Z quelconque)\n",
    "Nother = 100\n",
    "\n",
    "TC = np.block([np.zeros(Nzero), np.ones(Nother)]) #0 -> Z=0, 1 -> Z=random\n",
    "\n",
    "# Nom du fichier de testcases\n",
    "# .csv -> permet de lire avec rainbow csv et avoir les couleurs\n",
    "# .txt -> lecture par le VHDL\n",
    "filename = \"mandelbrot_iteration_testcases.csv\" # le fichier .txt est également généré\n",
    "\n",
    "# Fonction de raccourci pour fixed point\n",
    "def FP(x):\n",
    "    return FixedPoint(x, m=m, n=n, signed=True, str_base=2)\n",
    "\n",
    "# File :\n",
    "#\n",
    "header = [\"Cr\", \"Ci\", \"Zr_previous\", \"Zi_previous\", \"Zr_next\", \"Zi_next\", \"done_in\", \"R\", \"iterations_in\", \"iterations_out\", \"done_out\"]\n",
    "#\n",
    "joiner = ','\n",
    "R = FP(2)\n",
    "file_data = \"\"\n",
    "\n",
    "np.random.seed(0)\n",
    "# print header\n",
    "file_data += joiner.join(header) + '\\n'\n",
    "for i, tc in enumerate(TC):\n",
    "    Cr = FP(np.random.choice(real_values))\n",
    "    Ci = FP(np.random.choice(imag_values))\n",
    "    if tc:\n",
    "        Zr_previous = FP(np.random.choice(real_values))\n",
    "        Zi_previous = FP(np.random.choice(imag_values))\n",
    "    else:\n",
    "        Zr_previous = FP(0)\n",
    "        Zi_previous = FP(0)\n",
    "    done_in = np.random.randint(0, 1+1)\n",
    "    iterations_in = np.random.randint(0, MAX_ITER)\n",
    "\n",
    "    # Do the iteration\n",
    "    Zr_next, Zi_next, done_out, iterations_out = mandelbrot_iter(Cr, Ci, Zr_previous, Zi_previous, R, iterations_in, m=m, n=n, max_iter=MAX_ITER, done_in=done_in)\n",
    "\n",
    "    values = (Cr, Ci, Zr_previous, Zi_previous, Zr_next, Zi_next, done_in, R, iterations_in, iterations_out, done_out)\n",
    "    data = joiner.join([str(v) for v in values]) + '\\n'\n",
    "    file_data += data\n",
    "\n",
    "    #print(f\"L{i+2:3d} : ({Cr: .3f},{Ci: .3f} | {Zr_previous: .3f}, {Zi_previous: .3f}) -> ({Zr_next: .3f}, {Zi_next: .3f}) ({done_out})\")\n",
    "\n",
    "\n",
    "with open(filename, 'w') as f:\n",
    "    f.write(file_data)\n",
    "with open(filename.replace('.csv', '.txt'), 'w') as f:\n",
    "    # Suppression de la première ligne et remplacement des virgules par des espaces\n",
    "    f.write(file_data.split('\\n', 1)[1].replace(joiner, ' '))\n",
    "\n"
   ]
  }
 ],
 "metadata": {
  "interpreter": {
   "hash": "c640ee6f5a645129f8b6529d4f6137b08586114413da0c4a8fd269ac7d57753c"
  },
  "kernelspec": {
   "display_name": "Python 3.8.13 ('base')",
   "language": "python",
   "name": "python3"
  },
  "language_info": {
   "codemirror_mode": {
    "name": "ipython",
    "version": 3
   },
   "file_extension": ".py",
   "mimetype": "text/x-python",
   "name": "python",
   "nbconvert_exporter": "python",
   "pygments_lexer": "ipython3",
   "version": "3.8.13"
  },
  "orig_nbformat": 4
 },
 "nbformat": 4,
 "nbformat_minor": 2
}

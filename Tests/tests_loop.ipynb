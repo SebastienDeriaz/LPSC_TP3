{
 "cells": [
  {
   "cell_type": "code",
   "execution_count": 1,
   "metadata": {},
   "outputs": [],
   "source": [
    "from fixedpoint import FixedPoint\n",
    "from mandelbrot_functions import MAX_ITER, mandelbrot_iter, m, n\n",
    "\n",
    "def FP(x):\n",
    "    return FixedPoint(x, m=m, n=n, signed=True, str_base=2)\n",
    "\n",
    "def resize(x : FixedPoint):\n",
    "    x_str = str(x)\n",
    "    new = f\"0b{x_str[x.m-m:x.m+n]}\"\n",
    "    #print(f\"[{start}:{end}] -> {new}\")\n",
    "    return FixedPoint(new, m=m, n=n, signed=True, str_base=2)"
   ]
  },
  {
   "cell_type": "code",
   "execution_count": 5,
   "metadata": {},
   "outputs": [
    {
     "name": "stdout",
     "output_type": "stream",
     "text": [
      "111010111110010110 000100110010101000 9\n",
      "0 0.0 0.0\n",
      "1 -0.62823486328125 0.598876953125\n",
      "2 -0.59222412109375 -0.15362548828125\n",
      "3 -0.301116943359375 0.78082275390625\n",
      "4 -1.147247314453125 0.12860107421875\n",
      "5 0.671417236328125 0.30377197265625\n",
      "6 -0.26971435546875 1.00677490234375\n",
      "7 -1.569091796875 0.0557861328125\n",
      "8 1.830718994140625 0.42376708984375\n",
      "iteration 9\n"
     ]
    }
   ],
   "source": [
    "# Debug file\n",
    "iteration_testcases_file = \"./mandelbrot_loop_testcases.csv\"\n",
    "line = 2\n",
    "\n",
    "with open(iteration_testcases_file, 'r') as f:\n",
    "    data = f.read()\n",
    "    lines = data.split('\\n')\n",
    "line = lines[line-2+1]\n",
    "values = line.split(',')\n",
    "\n",
    "Cr = FP('0b' + values[0])\n",
    "Ci = FP('0b' + values[1])\n",
    "iterations_out_th = int(values[2])\n",
    "\n",
    "print(Cr, Ci, iterations_out_th)\n",
    "\n",
    "Cr_float = float(Cr)\n",
    "Ci_float = float(Ci)\n",
    "\n",
    "iterations = 0\n",
    "Zr, Zi = FP(0), FP(0)\n",
    "for i in range(MAX_ITER):\n",
    "    print(iterations,float(Zr), float(Zi))\n",
    "    Zr, Zi, done, iterations = mandelbrot_iter(Cr, Ci, Zr, Zi, FP(2), iterations, m, n, MAX_ITER)\n",
    "    \n",
    "    if done:\n",
    "        print(f\"iteration {iterations}\")\n",
    "        break"
   ]
  }
 ],
 "metadata": {
  "interpreter": {
   "hash": "c640ee6f5a645129f8b6529d4f6137b08586114413da0c4a8fd269ac7d57753c"
  },
  "kernelspec": {
   "display_name": "Python 3.8.13 ('base')",
   "language": "python",
   "name": "python3"
  },
  "language_info": {
   "codemirror_mode": {
    "name": "ipython",
    "version": 3
   },
   "file_extension": ".py",
   "mimetype": "text/x-python",
   "name": "python",
   "nbconvert_exporter": "python",
   "pygments_lexer": "ipython3",
   "version": "3.8.13"
  },
  "orig_nbformat": 4
 },
 "nbformat": 4,
 "nbformat_minor": 2
}

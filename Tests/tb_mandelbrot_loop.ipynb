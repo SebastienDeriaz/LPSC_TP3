{
 "cells": [
  {
   "cell_type": "markdown",
   "metadata": {},
   "source": [
    "# LPSC - TP3\n",
    "\n",
    "Testbench pour une seule itération de mandelbrot (``mandelbrot_iteration``)"
   ]
  },
  {
   "cell_type": "code",
   "execution_count": 1,
   "metadata": {},
   "outputs": [],
   "source": [
    "from fixedpoint import FixedPoint\n",
    "import numpy as np\n",
    "import matplotlib.pyplot as plt\n",
    "from mandelbrot_functions import mandelbrot_loop, screen, m, n, imag_values, real_values, MAX_ITER\n",
    "\n",
    "# Fonction de raccourci pour fixed point\n",
    "def FP(x):\n",
    "    return FixedPoint(x, m=m, n=n, signed=True, str_base=2)"
   ]
  },
  {
   "cell_type": "code",
   "execution_count": 2,
   "metadata": {},
   "outputs": [],
   "source": [
    "# Nombre de testcases\n",
    "N = 100\n",
    "\n",
    "# Nom du fichier de testcases\n",
    "# .csv -> permet de lire avec rainbow csv et avoir les couleurs\n",
    "# .txt -> lecture par le VHDL\n",
    "filename = \"mandelbrot_loop_testcases.csv\" # le fichier .txt est également généré\n",
    "\n",
    "# File :\n",
    "#\n",
    "header = [\"Cr\", \"Ci\", \"iterations\"]\n",
    "#\n",
    "joiner = ','\n",
    "R = FP(2)\n",
    "file_data = \"\"\n",
    "\n",
    "np.random.seed(0)\n",
    "# print header\n",
    "file_data += joiner.join(header) + '\\n'\n",
    "for i in range(N):\n",
    "    Cr = FP(np.random.choice(real_values))\n",
    "    Ci = FP(np.random.choice(imag_values))\n",
    "    # Loop\n",
    "    iterations = mandelbrot_loop(Cr, Ci, R, m=m, n=n, max_iter=MAX_ITER)\n",
    "\n",
    "    values = (Cr, Ci, iterations)\n",
    "    data = joiner.join([str(v) for v in values]) + '\\n'\n",
    "    file_data += data\n",
    "\n",
    "    #print(f\"L{i+2:3d} : ({Cr: .3f},{Ci: .3f} | {Zr_previous: .3f}, {Zi_previous: .3f}) -> ({Zr_next: .3f}, {Zi_next: .3f}) ({done_out})\")\n",
    "\n",
    "\n",
    "with open(filename, 'w') as f:\n",
    "    f.write(file_data)\n",
    "with open(filename.replace('.csv', '.txt'), 'w') as f:\n",
    "    # Suppression de la première ligne et remplacement des virgules par des espaces\n",
    "    f.write(file_data.split('\\n', 1)[1].replace(joiner, ' '))\n",
    "\n"
   ]
  }
 ],
 "metadata": {
  "interpreter": {
   "hash": "c640ee6f5a645129f8b6529d4f6137b08586114413da0c4a8fd269ac7d57753c"
  },
  "kernelspec": {
   "display_name": "Python 3.8.13 ('base')",
   "language": "python",
   "name": "python3"
  },
  "language_info": {
   "codemirror_mode": {
    "name": "ipython",
    "version": 3
   },
   "file_extension": ".py",
   "mimetype": "text/x-python",
   "name": "python",
   "nbconvert_exporter": "python",
   "pygments_lexer": "ipython3",
   "version": "3.8.13"
  },
  "orig_nbformat": 4
 },
 "nbformat": 4,
 "nbformat_minor": 2
}
